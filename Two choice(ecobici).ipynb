{
 "cells": [
  {
   "cell_type": "code",
   "execution_count": 1,
   "metadata": {},
   "outputs": [],
   "source": [
    "import pandas as pd\n",
    "import numpy as np\n",
    "import matplotlib.pyplot as plt\n",
    "from matplotlib.pylab import hist, show\n",
    "from matplotlib.ticker import StrMethodFormatter\n",
    "import datetime\n",
    "import time\n",
    "import scipy.stats as ss\n",
    "import random\n",
    "from random import randint"
   ]
  },
  {
   "cell_type": "markdown",
   "metadata": {},
   "source": [
    "## Distribuciones de llegada a las estaciones (retiro de bicis)"
   ]
  },
  {
   "cell_type": "code",
   "execution_count": 2,
   "metadata": {},
   "outputs": [
    {
     "name": "stderr",
     "output_type": "stream",
     "text": [
      "/Users/macbookpro/anaconda3/lib/python3.7/site-packages/IPython/core/interactiveshell.py:3049: DtypeWarning: Columns (1) have mixed types. Specify dtype option on import or set low_memory=False.\n",
      "  interactivity=interactivity, compiler=compiler, result=result)\n"
     ]
    }
   ],
   "source": [
    "retiros = pd.read_csv('Estaciones-Retiros.csv', header= 0)\n",
    "retiros = retiros.drop('index', axis=1)"
   ]
  },
  {
   "cell_type": "code",
   "execution_count": 3,
   "metadata": {},
   "outputs": [],
   "source": [
    "#Separamos horarios\n",
    "tramo5_12 = retiros[(retiros['Retiro_horas'] <= 12)]\n",
    "\n",
    "tramo12_17 = retiros[(retiros['Retiro_horas'] > 12) & \n",
    "                    (retiros['Retiro_horas'] <= 17)]\n",
    "\n",
    "\n",
    "tramo17_24 = retiros[(retiros['Retiro_horas'] > 17)]\n",
    "\n",
    "#Contamos retiros por estaciones (en total, i.e. en el año y medio)\n",
    "u1 = tramo5_12.groupby('Ciclo_Estacion_Retiro')['Ciclo_Estacion_Retiro'].count()\n",
    "u2 = tramo12_17.groupby('Ciclo_Estacion_Retiro')['Ciclo_Estacion_Retiro'].count()\n",
    "u3 = tramo17_24.groupby('Ciclo_Estacion_Retiro')['Ciclo_Estacion_Retiro'].count()\n",
    "\n",
    "#Dividimos entre el número de dias para obtener tasas por dias\n",
    "#ie promedio de retiros por día\n",
    "tasas1 = u1 *1/638\n",
    "tasas2 = u2 *1/638\n",
    "tasas3 = u3 *1/638"
   ]
  },
  {
   "cell_type": "code",
   "execution_count": 4,
   "metadata": {},
   "outputs": [],
   "source": [
    "media1 = []\n",
    "##Lista de estaciones\n",
    "\n",
    "lista = [196,198,199,200,201,202,203,205,206,207,208,\n",
    "         209,210,211,212,213,214,215,216,217,218,219,\n",
    "         220,221,223,224,225,226,228,229,230,231,233,\n",
    "         235,236,239,240,451,460]\n",
    "\n",
    "\n",
    "for i in lista: \n",
    "    elegido = tasas1[i]\n",
    "    media1.append(elegido)\n",
    "    \n",
    "#media1 #Lista de parametros lambda i . por estaciones (de la 196 a la 460)\n",
    "\n",
    "media2 = []\n",
    "\n",
    "for i in lista: \n",
    "    elegido = tasas2[i]\n",
    "    media2.append(elegido)\n",
    "    \n",
    "#media2 #Lista de parametros lambda i . por estaciones (de la 196 a la 460)\n",
    "\n",
    "media3 = []\n",
    "\n",
    "for i in lista: \n",
    "    elegido = tasas3[i]\n",
    "    media3.append(elegido)\n",
    "    \n",
    "#media3 #Lista de parametros lambda i . por estaciones (de la 196 a la 460)"
   ]
  },
  {
   "cell_type": "markdown",
   "metadata": {},
   "source": [
    "Ahora trabajamos con las estaciones ajenas a Polanco"
   ]
  },
  {
   "cell_type": "code",
   "execution_count": 5,
   "metadata": {},
   "outputs": [
    {
     "name": "stderr",
     "output_type": "stream",
     "text": [
      "/Users/macbookpro/anaconda3/lib/python3.7/site-packages/IPython/core/interactiveshell.py:3049: DtypeWarning: Columns (0) have mixed types. Specify dtype option on import or set low_memory=False.\n",
      "  interactivity=interactivity, compiler=compiler, result=result)\n"
     ]
    }
   ],
   "source": [
    "estaciones_ex = pd.read_csv('EstacionesExternas.csv', header = 0)\n",
    "#estaciones_ex"
   ]
  },
  {
   "cell_type": "code",
   "execution_count": 6,
   "metadata": {},
   "outputs": [],
   "source": [
    "tramo5_12ex = estaciones_ex[(estaciones_ex['Retiro_horas'] <= 12)]\n",
    "\n",
    "tramo12_17ex = estaciones_ex[(estaciones_ex['Retiro_horas'] > 12) & \n",
    "                    (estaciones_ex['Retiro_horas'] <= 17)]\n",
    "\n",
    "tramo17_24ex = estaciones_ex[(estaciones_ex['Retiro_horas'] > 17)]\n",
    "\n",
    "u1ex = tramo5_12ex.groupby('Ciclo_Estacion_Retiro')['Ciclo_Estacion_Retiro'].count()\n",
    "u2ex = tramo12_17ex.groupby('Ciclo_Estacion_Retiro')['Ciclo_Estacion_Retiro'].count()\n",
    "u3ex = tramo17_24ex.groupby('Ciclo_Estacion_Retiro')['Ciclo_Estacion_Retiro'].count()\n",
    "\n",
    "#Obtenemos las tasas de retiro por día:\n",
    "tasas1ex = u1ex *1/638\n",
    "tasas2ex = u2ex *1/638\n",
    "tasas3ex = u3ex *1/638"
   ]
  },
  {
   "cell_type": "code",
   "execution_count": 7,
   "metadata": {},
   "outputs": [],
   "source": [
    "#Como consideramos a las externas como un solo nodo, sumamos las tasas\n",
    "#para obtener la tasa total\n",
    "media1ex = tasas1ex.sum()\n",
    "media2ex = tasas2ex.sum()\n",
    "media3ex = tasas3ex.sum()"
   ]
  },
  {
   "cell_type": "markdown",
   "metadata": {},
   "source": [
    "Lista de tasas de retiro por día de TODAS las estaciones"
   ]
  },
  {
   "cell_type": "code",
   "execution_count": 8,
   "metadata": {},
   "outputs": [],
   "source": [
    "#Agregamos a la lista de medias internas las externas\n",
    "\n",
    "media1.append(media1ex)\n",
    "media2.append(media2ex)\n",
    "media3.append(media3ex)"
   ]
  },
  {
   "cell_type": "markdown",
   "metadata": {},
   "source": [
    "## Tiempos de servicio entre estaciones"
   ]
  },
  {
   "cell_type": "code",
   "execution_count": 9,
   "metadata": {},
   "outputs": [],
   "source": [
    "estaciones = pd.read_csv('Cicloestaciones.csv', header= 0)"
   ]
  },
  {
   "cell_type": "code",
   "execution_count": 10,
   "metadata": {},
   "outputs": [],
   "source": [
    "### Después de mucho tiempo tratando de entender porqué las gammas \n",
    "##no se ajustaban a los datos, caí en la cuenta de que usaba la prueba equivocada KS (pues los parámetros son estimados) y tratando de usar la jicuadrada me di cuenta de que también es erróneo usarla, ya que las ei son pequeñísimas.\n",
    "\n",
    "#Se eliminan renglones cuya columna TS_Sec sea cero (pues se usará EMV)\n",
    "estaciones = estaciones[(estaciones != 0).all(1)]"
   ]
  },
  {
   "cell_type": "markdown",
   "metadata": {},
   "source": [
    "#### Estimar parámetros SIN pruebas de hipótesis.\n",
    "La siguiente matriz A(i,j) nos da los parámetros de distribuciones gamma asociadas al tiempo de la estación de retiro i (renglón) a la estación arribo j (columna)."
   ]
  },
  {
   "cell_type": "code",
   "execution_count": 11,
   "metadata": {},
   "outputs": [
    {
     "name": "stdout",
     "output_type": "stream",
     "text": [
      "Matriz de parámetros de forma\n",
      "Matriz de parámetros de escala\n"
     ]
    }
   ],
   "source": [
    "##Lista de estaciones\n",
    "\n",
    "lista = [196,198,199,200,201,202,203,205,206,207,208,\n",
    "         209,210,211,212,213,214,215,216,217,218,219,\n",
    "         220,221,223,224,225,226,228,229,230,231,233,\n",
    "         235,236,239,240,451,460]\n",
    "\n",
    "l = len(lista)\n",
    "forma = np.zeros((l,l))\n",
    "escala = np.zeros((l,l))\n",
    "\n",
    "for i in range (0,l):\n",
    "    arribo = estaciones[\n",
    "        (estaciones['Ciclo_Estacion_Retiro']== lista[i])  \n",
    "        ]\n",
    "    for j in range (0,l):\n",
    "        #Seleccionamos sólo una estación destino\n",
    "        retiro = arribo[\n",
    "            (arribo['Ciclo_Estacion_Arribo']== lista[j])  \n",
    "            ]\n",
    "        shape, loc, scale = ss.gamma.fit(retiro['TS_Sec'], floc=0)\n",
    "        forma[i][j] = shape\n",
    "        escala[i][j] = scale\n",
    "print(\"Matriz de parámetros de forma\")\n",
    "#print(forma)\n",
    "print(\"Matriz de parámetros de escala\")\n",
    "#print(escala)\n",
    "        "
   ]
  },
  {
   "cell_type": "markdown",
   "metadata": {},
   "source": [
    "## Probabilidades de transición de una estación a otra"
   ]
  },
  {
   "cell_type": "code",
   "execution_count": 12,
   "metadata": {},
   "outputs": [
    {
     "name": "stderr",
     "output_type": "stream",
     "text": [
      "/Users/macbookpro/anaconda3/lib/python3.7/site-packages/IPython/core/interactiveshell.py:3049: DtypeWarning: Columns (0,1) have mixed types. Specify dtype option on import or set low_memory=False.\n",
      "  interactivity=interactivity, compiler=compiler, result=result)\n"
     ]
    }
   ],
   "source": [
    "Datos_Transicion = pd.read_csv('Datos_Transicion.csv', header = 0)\n",
    "#Datos_Transicion"
   ]
  },
  {
   "cell_type": "code",
   "execution_count": 13,
   "metadata": {},
   "outputs": [],
   "source": [
    "##Lista de estaciones\n",
    "\n",
    "lista = [196,198,199,200,201,202,203,205,206,207,208,\n",
    "         209,210,211,212,213,214,215,216,217,218,219,\n",
    "         220,221,223,224,225,226,228,229,230,231,233,\n",
    "         235,236,239,240,451,460]\n",
    "l = len(lista)\n",
    "A = np.zeros((l,l+1))\n",
    "\n",
    "#Seleccionamos estacion origen\n",
    "for i in range (0,l):\n",
    "    vector = []\n",
    "    arribo = Datos_Transicion[\n",
    "        (Datos_Transicion['Ciclo_Estacion_Retiro']== lista[i])  \n",
    "        ]\n",
    "    #num total de retiros de la estacion num i de la lista:\n",
    "    total = arribo.shape[0]\n",
    "    for j in range (0,l):        \n",
    "        #Seleccionamos sólo una estación destino\n",
    "        retiro = arribo[\n",
    "                    (arribo['Ciclo_Estacion_Arribo']== lista[j])  \n",
    "                    ]\n",
    "        #frecuencia de ir de i a j\n",
    "        frecuencia = retiro.shape[0]\n",
    "        vector.append(frecuencia)\n",
    "\n",
    "    vector.append(total-sum(vector))\n",
    "    vector = np.asarray(vector)\n",
    "    A[i] = vector * 1/sum(vector)\n",
    "\n",
    "\n",
    "vector_ex = []\n",
    "for k in range (0,l):        \n",
    "    #Seleccionamos sólo una estación destino\n",
    "    retiro_ex = Datos_Transicion[\n",
    "                (Datos_Transicion['Ciclo_Estacion_Arribo']== lista[k])  \n",
    "                ]\n",
    "    #frecuencia de ir de todo el nodo extra a k\n",
    "    frecuencia_ex = retiro_ex.shape[0]\n",
    "    vector_ex.append(frecuencia_ex)\n",
    "    \n",
    "vector_ex.append(Datos_Transicion.shape[0] - sum(vector_ex))   \n",
    "\n",
    "vector_ex = np.asarray(vector_ex)\n",
    "#Normalizamos:\n",
    "vector_ex = vector_ex * 1/(sum(vector_ex))\n",
    "#print(vector_ex)\n",
    "\n",
    "vector_ex = np.reshape(vector_ex, (1,40))\n",
    "\n",
    "A = np.append(A, vector_ex, axis=0) #Esta ya es la matriz de transicion"
   ]
  },
  {
   "cell_type": "markdown",
   "metadata": {},
   "source": [
    "## Simulación"
   ]
  },
  {
   "cell_type": "markdown",
   "metadata": {},
   "source": [
    "### Variables"
   ]
  },
  {
   "cell_type": "code",
   "execution_count": 14,
   "metadata": {},
   "outputs": [],
   "source": [
    "#Suma de tasas de retiro 1,2,3 correspondientes a cada periodo\n",
    "\n",
    "sumal1 = sum(media1) \n",
    "sumal2 = sum(media2)\n",
    "sumal3 = sum(media3) \n",
    "\n",
    "tasa   = [media1, media2, media3]\n",
    "suma   = [sumal1, sumal2, sumal3]"
   ]
  },
  {
   "cell_type": "code",
   "execution_count": 15,
   "metadata": {},
   "outputs": [],
   "source": [
    "#Vector de capacidades de estaciones:\n",
    "#El orden es el de las estaciones\n",
    "\n",
    "capacidad = [27,27,23,27,18,21,24,21,24,24,27,24,27,35,\n",
    "             36,27,23,24,24,36,24,36,24,24,29,21,23,27,\n",
    "             21,21,18,27,15,27,30,21,34,36,32, 7000]"
   ]
  },
  {
   "cell_type": "markdown",
   "metadata": {},
   "source": [
    "### Funciones"
   ]
  },
  {
   "cell_type": "code",
   "execution_count": 16,
   "metadata": {},
   "outputs": [],
   "source": [
    "def Genera(pi):\n",
    "    u = np.random.random()\n",
    "    s = 0\n",
    "    k = 0\n",
    "\n",
    "    while s < u:\n",
    "        s = s + pi[k]\n",
    "        k = k + 1\n",
    "    return (k-1)"
   ]
  },
  {
   "cell_type": "code",
   "execution_count": 17,
   "metadata": {},
   "outputs": [],
   "source": [
    "#Generamos proceso de retiros\n",
    "def PPoisson(theta, tope):\n",
    "    t = 0\n",
    "    N = 0\n",
    "    expon = []\n",
    "    tiempos = []\n",
    "    while t < tope:\n",
    "        exp = ss.expon.rvs(scale = 1 / theta)\n",
    "        t = t + exp\n",
    "        if t < tope:\n",
    "            N += 1\n",
    "            tiempos.append(t)\n",
    "            expon.append(exp)\n",
    "    return expon, tiempos #Regresa una tupla de una lista de expon. y una lista de tiempos"
   ]
  },
  {
   "cell_type": "code",
   "execution_count": 18,
   "metadata": {},
   "outputs": [],
   "source": [
    "\"\"\"Función que devuelve array de tiempos (en horas) escalados\n",
    "correspondientes al periodo\"\"\"\n",
    "def Tiempos(periodo, suma):\n",
    "    \n",
    "    #Generamos Poisson etapa i \n",
    "    u = PPoisson(suma[periodo] , 1)\n",
    "    arr_tiempos = np.asarray(u[1])\n",
    "    arr_expon = np.asarray(u[0])\n",
    "    \n",
    "    #ELegimos el vector de tiempos y lo reescalamos para obtener horas\n",
    "    if periodo == 0:        \n",
    "        return arr_tiempos * 7 + 5, arr_expon * 7\n",
    "    \n",
    "    if periodo == 1:\n",
    "        return arr_tiempos * 5 + 12, arr_expon * 5\n",
    "        \n",
    "    if periodo == 2:\n",
    "        return arr_tiempos * 7.5 + 17, arr_expon * 7.5"
   ]
  },
  {
   "cell_type": "code",
   "execution_count": 19,
   "metadata": {},
   "outputs": [],
   "source": [
    "\"\"\"Funcion que genera una estacion origen de acuerdo a las tasas\n",
    "    (genera la entrada de la lista de estaciones)\"\"\"\n",
    "def Origen(periodo, tasa, suma):\n",
    "    tasa = np.asarray(tasa)\n",
    "    u = tasa[periodo] * 1/suma[periodo] #ya es un array (corresp. a un periodo)\n",
    "    return Genera(u)"
   ]
  },
  {
   "cell_type": "code",
   "execution_count": 20,
   "metadata": {},
   "outputs": [],
   "source": [
    "\"\"\"Funcion que modifica la entrada \"estacion\" de una lista, que \n",
    "es el elemento \"estacion\" de un diccionario. Devuelve el diccionario\n",
    "modificado. Las entradas son de 0 a 39, ent para cambiar la salida\n",
    "de la estacion i, hay que cambiar la entrada i-1\"\"\"\n",
    "def Actualiza(dic, tiempo, estacion, signo):\n",
    "    e = np.eye(40)\n",
    "   #entrada = vtiempos[tiempo]\n",
    "    sumouno = np.zeros(40) + e[estacion]\n",
    "    restouno = np.zeros(40) - e[estacion]\n",
    "    \"\"\"if signo == 0:\n",
    "        dic.update({vtiempos[tiempo]: np.zeros(40) + e[estacion]})\n",
    "    elif signo === 1:\n",
    "        dic.update({vtiempos[tiempo]: np.zeros(40) - e[estacion]})\"\"\"\n",
    "    if signo == 0:\n",
    "        dic.update({tiempo: sumouno})\n",
    "    elif signo == 1:\n",
    "        dic.update({tiempo: restouno})\n",
    "        \n",
    "    return dic"
   ]
  },
  {
   "cell_type": "code",
   "execution_count": 21,
   "metadata": {},
   "outputs": [],
   "source": [
    "\"\"\"Funcion que permite acomodar una llegada en el tiempo correspondiente\n",
    "    y contar cuantas bicis hay en la estacion hasta ese tiempo.\n",
    "    Devuelve el indice del vector tiempo y el no. de bicis.\"\"\"\n",
    "#tiempo_actual<tiempo_tope\n",
    "def Evalua(dic, indtiempo_actual, estacion, t_llegada, vtiempo):\n",
    "    i     = indtiempo_actual\n",
    "    bicis = 0\n",
    "    if vtiempo[len(vtiempo)-1] < t_llegada:\n",
    "        return i, bicis\n",
    "    \n",
    "    while t_llegada > vtiempo[i]:\n",
    "        sel    = dic[vtiempo[i]] #es la llave ti del dic.\n",
    "        bicis  = bicis + sel[estacion] #contamos bicis pendientes en la est.\n",
    "        i     += 1\n",
    "    return i, bicis"
   ]
  },
  {
   "cell_type": "code",
   "execution_count": 22,
   "metadata": {},
   "outputs": [],
   "source": [
    "\"\"\"Genera una estacion destino dependiendo de dos generadas con matriz de transicion\n",
    "    usando un parametro theta (probabilidad minima de ir a la estacion mas vacia)\"\"\"\n",
    "#n porque el sistema solo sabe la dist. actual de las bicis (no la futura)\n",
    "def Two_Choice(theta, origen, n, transicion):\n",
    "    #l = []\n",
    "    #Generamos primer destino\n",
    "    destino1 = Genera(transicion[origen])\n",
    "    destino2 = destino1\n",
    "    \n",
    "    #Queremos escoger entre dos distinos\n",
    "    while destino2 == destino1:\n",
    "        destino2 = Genera(transicion[origen])  \n",
    "    \n",
    "    #Generamos una proba mayor que theta de ir a la estac. minima\n",
    "    proba = random.uniform(theta, 1)\n",
    "    u = random.random()\n",
    "    \n",
    "    if n[destino1] <= n[destino2]:\n",
    "        minimo = destino1\n",
    "        maximo = destino2\n",
    "    else:\n",
    "        minimo = destino2\n",
    "        maximo = destino1\n",
    "        \n",
    "    if u < proba:\n",
    "        choice = minimo\n",
    "    else:\n",
    "        choice = maximo\n",
    "   \n",
    "    return choice"
   ]
  },
  {
   "cell_type": "code",
   "execution_count": 23,
   "metadata": {},
   "outputs": [],
   "source": [
    "##Generamos distribucion inicial\n",
    "n = np.random.randint(1,15,39)\n",
    "n = np.append(n, 6800 - sum(n))"
   ]
  },
  {
   "cell_type": "code",
   "execution_count": 24,
   "metadata": {},
   "outputs": [],
   "source": [
    "\"\"\"n -> array\"\"\"\n",
    "def Simulacion(n, capacidades, tasa, suma, transicion, forma, escala, theta):\n",
    "    #Vectores cuyas entradas i indican cuantas veces una estacion estuvo llena o vacia\n",
    "    contador_vacias = np.zeros(39)\n",
    "    contador_llenas = np.zeros(39)\n",
    "    \n",
    "    tiempo_vacias = np.zeros(39)\n",
    "    tiempo_llenas = np.zeros(39)\n",
    "\n",
    "    #Generamos Poisson (todas las etapas) y concatenamos\n",
    "    vtiempos1 = Tiempos(0, suma)\n",
    "    vtiempos2 = Tiempos(1, suma)\n",
    "    vtiempos3 = Tiempos(2, suma)\n",
    "    \n",
    "    vtiempos  = np.concatenate((vtiempos1[0], vtiempos2[0],vtiempos3[0]),axis=0)\n",
    "    vexpon    = np.concatenate((vtiempos1[1], vtiempos2[1],vtiempos3[1]),axis=0)\n",
    "    \n",
    "    #Diccionario asociado a tiempos y estaciones\n",
    "    dic      = dict.fromkeys(vtiempos, np.zeros(40))\n",
    "    \n",
    "    for i in range(0, len(vtiempos)):\n",
    "        t_actual = vtiempos[i] #elegimos la iesima entrada de los tiempos\n",
    "        \n",
    "        #Con las siguientes cond. de hora, definimos periodo\n",
    "        if t_actual <= 12:\n",
    "            periodo = 0   \n",
    "        elif t_actual > 12 and t_actual <= 17:\n",
    "            periodo = 1\n",
    "        elif t_actual > 17:\n",
    "            periodo = 2\n",
    "            \n",
    "        #¿De donde viene la bici del tiempo i?   \n",
    "        origen = Origen(periodo, tasa, suma) #se genera el num de entrada del vector\n",
    "        \n",
    "        #Si está vacia:\n",
    "        while n[origen] == 0:\n",
    "            contador_vacias[origen] = contador_vacias[origen] + 1\n",
    "            origen = Origen(periodo, tasa, suma)\n",
    "\n",
    "        #Para esa estacion origen generamos una estacion destino\n",
    "        destino = Two_Choice(theta, origen, n, transicion)\n",
    "        #print(destino)\n",
    "        \n",
    "        #Nos fijamos en las estaciones Polanco (destino)\n",
    "        if  destino!= 39:\n",
    "            if origen == 39:\n",
    "                n[destino] = n[destino] + 1\n",
    "                n[39] = n[39] - 1\n",
    "            \n",
    "            else:\n",
    "                \n",
    "                #Generamos tiempo de servicio y lo convertimos a horas\n",
    "                tiempo_llegada = ss.gamma.rvs(forma[origen, destino], escala[origen, destino]) * 1/3600 + t_actual\n",
    "                \n",
    "                evaluacion     = Evalua(dic, i, destino, tiempo_llegada, vtiempos)\n",
    "\n",
    "                #Si la estacion está llena:\n",
    "                while capacidad[destino] <= n[destino] + evaluacion[1]: \n",
    "                    contador_llenas[destino] = contador_llenas[destino] + 1\n",
    "                    destino = Two_Choice(theta, origen, n, transicion) #cambiamos destino\n",
    "\n",
    "                    if destino != 39:                   \n",
    "                        tiempo_llegada = ss.gamma.rvs(forma[origen, destino], escala[origen, destino]) * 1/3600 + t_actual\n",
    "                        evaluacion     = Evalua(dic, i, destino, tiempo_llegada, vtiempos)\n",
    "\n",
    "                        if evaluacion == (i, 0): #si el tiempo de llegada rebasa el dia, no lo tomo en cuenta\n",
    "                            origen = destino #haremos la op. y la inversa\n",
    "                        \n",
    "                    else: \n",
    "                        evaluacion = (i, 1) #llega al instante y la estacion 39 nunca esta llena\n",
    "\n",
    "                    if evaluacion == (i, 0):\n",
    "                        origen = destino #haremos la op. y la inversa\n",
    "                #print(t_actual)\n",
    "                dic = Actualiza(dic, t_actual, origen, 1) #quitamos bici en el tiempo actual a la est. origen\n",
    "                dic = Actualiza(dic, vtiempos[evaluacion[0]], destino, 0)\n",
    "            \n",
    "        else:\n",
    "            #No me importa el tiempo de Polanco a 39 ni de 39 a ella misma, la agrego al instante\n",
    "            n[39] = n[39] + 1\n",
    "            n[origen] = n[origen] - 1\n",
    "        n = n + dic[t_actual]\n",
    "        indicesvacias    = np.where(n == 0)\n",
    "        a                = np.zeros(39)\n",
    "        a[indicesvacias] = 1\n",
    "        tiempo_vacias    = tiempo_vacias + vexpon[i] * a\n",
    "        \n",
    "        #print(\"Distibucion de bicis al tiempo \", t_actual)\n",
    "        #print(n)\n",
    "        \n",
    "         #Para medir tiempo de estaciones llenas\n",
    "        b = np.zeros(39)\n",
    "        indicesllenas =[]\n",
    "\n",
    "        for k in range(0,39):\n",
    "            if n[k] == capacidades[k]:\n",
    "                indicesllenas.append(k)\n",
    "        b[indicesllenas] = 1\n",
    "        tiempo_llenas    = tiempo_llenas + vexpon[i] * b\n",
    "        \n",
    "    return n, contador_llenas, contador_vacias, tiempo_llenas, tiempo_vacias "
   ]
  },
  {
   "cell_type": "code",
   "execution_count": 25,
   "metadata": {},
   "outputs": [
    {
     "name": "stdout",
     "output_type": "stream",
     "text": [
      "Estados al final del día:\n",
      "[1.400e+01 1.500e+01 8.000e+00 9.000e+00 1.700e+01 1.500e+01 1.000e+01\n",
      " 2.900e+01 1.700e+01 2.400e+01 2.900e+01 1.200e+01 1.500e+01 2.700e+01\n",
      " 2.600e+01 5.000e+00 2.000e+00 1.400e+01 2.200e+01 5.600e+01 5.000e+00\n",
      " 2.900e+01 2.800e+01 1.500e+01 1.800e+01 1.900e+01 2.800e+01 2.200e+01\n",
      " 2.000e+01 1.300e+01 1.700e+01 2.800e+01 1.900e+01 1.900e+01 2.300e+01\n",
      " 2.800e+01 1.900e+01 1.400e+01 2.100e+01 5.697e+03]\n",
      "Total clientes que no pudieron regresar bici:\n",
      "[ 0.  0.  0.  0.  1.  0.  0. 16. 27.  9. 10.  0.  0.  0.  0.  0.  0.  0.\n",
      "  0. 51.  0.  0.  3.  0.  0.  0. 16.  0.  0.  0.  0.  9. 18.  0.  0.  6.\n",
      "  0.  0.  0.]\n",
      "Total clientes que no pudieron sacar bici:\n",
      "[ 0.  0.  0.  0.  0.  0.  0.  0.  0.  0.  0.  0.  0. 12.  0.  0.  0.  0.\n",
      "  0.  0.  2.  0.  0.  0.  0.  0.  0.  0.  0.  0.  0.  0.  0.  0.  0.  0.\n",
      "  0.  0.  0.]\n",
      "Total tiempo que estuvieron llenas:\n",
      "[0.         0.         0.         0.         0.92571344 0.\n",
      " 0.         1.4447542  3.16851707 3.96025883 0.33527093 0.\n",
      " 0.         0.         0.         0.         0.         0.\n",
      " 0.         0.14262518 0.         0.         1.54536135 0.\n",
      " 0.         0.         1.67818003 0.         0.         0.\n",
      " 0.         7.77970475 2.54138326 0.         0.         2.61787714\n",
      " 0.         0.         0.        ]\n",
      "Total tiempo que estuvieron vacias:\n",
      "[0.         0.         0.         0.         0.         0.\n",
      " 0.         0.         0.         0.         0.         0.\n",
      " 0.         2.21812021 0.         0.         0.         0.\n",
      " 0.         0.         3.56428756 0.         0.         0.\n",
      " 0.         0.         0.         0.         0.         0.\n",
      " 0.         0.         0.         0.         0.         0.\n",
      " 0.         0.         0.        ]\n"
     ]
    }
   ],
   "source": [
    "y = Simulacion(n, capacidad, tasa, suma, A, forma, escala, 0.8)\n",
    "print(\"Estados al final del día:\")\n",
    "print(y[0])\n",
    "\n",
    "print(\"Total clientes que no pudieron regresar bici:\")\n",
    "print(y[1])\n",
    "\n",
    "print(\"Total clientes que no pudieron sacar bici:\")\n",
    "print(y[2])\n",
    "\n",
    "print(\"Total tiempo que estuvieron llenas:\")\n",
    "print(y[3])\n",
    "\n",
    "print(\"Total tiempo que estuvieron vacias:\")\n",
    "print(y[4])"
   ]
  },
  {
   "cell_type": "markdown",
   "metadata": {},
   "source": [
    "#### Hacemos la simulacion repetidas veces y graficamos frecuencias"
   ]
  },
  {
   "cell_type": "code",
   "execution_count": 26,
   "metadata": {},
   "outputs": [],
   "source": [
    "lista = [196,198,199,200,201,202,203,205,206,207,208,\n",
    "         209,210,211,212,213,214,215,216,217,218,219,\n",
    "         220,221,223,224,225,226,228,229,230,231,233,\n",
    "         235,236,239,240,451,460]\n",
    "\n",
    "nombre_estaciones = list(map(str,lista))\n",
    "k = 100\n",
    "theta = 0.8"
   ]
  },
  {
   "cell_type": "code",
   "execution_count": 27,
   "metadata": {
    "scrolled": false
   },
   "outputs": [
    {
     "data": {
      "image/png": "[encoded data removed]",
      "text/plain": [
       "<Figure size 1152x576 with 1 Axes>"
      ]
     },
     "metadata": {
      "needs_background": "light"
     },
     "output_type": "display_data"
    },
    {
     "data": {
      "image/png": "[encoded data removed]",
      "text/plain": [
       "<Figure size 1152x576 with 1 Axes>"
      ]
     },
     "metadata": {
      "needs_background": "light"
     },
     "output_type": "display_data"
    },
    {
     "data": {
      "image/png": "[encoded data removed]",
      "text/plain": [
       "<Figure size 1152x576 with 1 Axes>"
      ]
     },
     "metadata": {
      "needs_background": "light"
     },
     "output_type": "display_data"
    },
    {
     "data": {
      "image/png": "[encoded data removed]",
      "text/plain": [
       "<Figure size 1152x576 with 1 Axes>"
      ]
     },
     "metadata": {
      "needs_background": "light"
     },
     "output_type": "display_data"
    }
   ],
   "source": [
    "estado = np.zeros(39)\n",
    "estado1 = np.zeros(39) \n",
    "estado2 = np.zeros(39) \n",
    "estado3 = np.zeros(39) \n",
    "auxi= np.zeros(39)\n",
    "for i in range(0,k):\n",
    "    n = np.random.randint(1,15,39)\n",
    "    n = np.append(n, 6800 - sum(n))\n",
    "    \n",
    "    \n",
    "    #auxi = x[4]\n",
    "    estado = estado + Simulacion(n, capacidad, tasa, suma, A, forma, escala, theta)[1]\n",
    "    \n",
    "    estado1 = estado1 + Simulacion(n, capacidad, tasa, suma, A, forma, escala, theta)[3]\n",
    "    \n",
    "    estado2 = estado2 + Simulacion(n, capacidad, tasa, suma, A, forma, escala, theta)[2]\n",
    "    \n",
    "    estado3 = estado3 + Simulacion(n, capacidad, tasa, suma, A, forma, escala, theta)[4]\n",
    "\n",
    "f, ax = plt.subplots(figsize=(16,8))\n",
    "plt.bar(nombre_estaciones, estado, align = 'center', width = 1,color= 'deepskyblue', edgecolor= 'black')\n",
    "plt.title('Usuarios rechazados por estaciones llenas en '+ str(k) + ' días')\n",
    "plt.show()\n",
    "\n",
    "f, ax = plt.subplots(figsize=(16,8))\n",
    "plt.bar(nombre_estaciones, estado1, align = 'center', width = 1,color= 'pink', edgecolor= 'black')\n",
    "plt.title('Tiempo total que las estaciones permanecieron llenas en ' +str(k)+ ' dias')\n",
    "plt.show()\n",
    "\n",
    "\n",
    "f, ax = plt.subplots(figsize=(16,8))\n",
    "plt.bar(nombre_estaciones, estado2, align = 'center', width = 1,color= 'mediumpurple', edgecolor= 'black')\n",
    "plt.title('Num de usuarios rechazados por estaciones vacías en ' +str(k)+ ' dias')\n",
    "plt.show()\n",
    "\n",
    "\n",
    "f, ax = plt.subplots(figsize=(16,8))\n",
    "plt.bar(nombre_estaciones, estado3, align = 'center', width = 1,color= 'lightgreen', edgecolor= 'black')\n",
    "plt.title('Tiempo total que las estaciones permanecieron vacías en ' +str(k)+ ' dias')\n",
    "plt.show()\n"
   ]
  }
 ],
 "metadata": {
  "kernelspec": {
   "display_name": "Python 3",
   "language": "python",
   "name": "python3"
  },
  "language_info": {
   "codemirror_mode": {
    "name": "ipython",
    "version": 3
   },
   "file_extension": ".py",
   "mimetype": "text/x-python",
   "name": "python",
   "nbconvert_exporter": "python",
   "pygments_lexer": "ipython3",
   "version": "3.7.3"
  }
 },
 "nbformat": 4,
 "nbformat_minor": 2
}
